{
 "cells": [
  {
   "cell_type": "markdown",
   "id": "57132dc3",
   "metadata": {},
   "source": [
    "# Flaredown project: Exploratory Data Analysis with Real-World Data "
   ]
  },
  {
   "cell_type": "markdown",
   "id": "88b1fd9f",
   "metadata": {},
   "source": [
    "#### I wanted to do this project as practice for working with data that may not necessarily be nicely defined, or one that doesn't have a clear path on how to explore the analyse the data. In research, I am used to defining the research question, designing and programming the tasks, collecting the data that I know I will need to answer the research question(s) at hand. However, when working for a company, I may be presented with some pre-existing data and need to gather insights about a particular research question. \n",
    "#### This project is practice for this type of scenario. \n"
   ]
  },
  {
   "cell_type": "markdown",
   "id": "c8dacd11",
   "metadata": {},
   "source": [
    "### Load Libraries"
   ]
  },
  {
   "cell_type": "code",
   "execution_count": 1,
   "id": "f1a7fb6d",
   "metadata": {},
   "outputs": [],
   "source": [
    "import numpy as np \n",
    "import pandas as pd \n",
    "import seaborn as sns \n",
    "import matplotlib.pyplot as plt "
   ]
  },
  {
   "cell_type": "markdown",
   "id": "cd478f26",
   "metadata": {},
   "source": [
    "### Import the data from Kaggle "
   ]
  },
  {
   "cell_type": "code",
   "execution_count": null,
   "id": "83dac7fc",
   "metadata": {},
   "outputs": [],
   "source": []
  },
  {
   "cell_type": "code",
   "execution_count": null,
   "id": "18d7dc31",
   "metadata": {},
   "outputs": [],
   "source": []
  },
  {
   "cell_type": "code",
   "execution_count": null,
   "id": "4c986c28",
   "metadata": {},
   "outputs": [],
   "source": []
  },
  {
   "cell_type": "code",
   "execution_count": null,
   "id": "f21e2201",
   "metadata": {},
   "outputs": [],
   "source": []
  },
  {
   "cell_type": "code",
   "execution_count": null,
   "id": "7c9337c4",
   "metadata": {},
   "outputs": [],
   "source": []
  }
 ],
 "metadata": {
  "kernelspec": {
   "display_name": "Python 3 (ipykernel)",
   "language": "python",
   "name": "python3"
  },
  "language_info": {
   "codemirror_mode": {
    "name": "ipython",
    "version": 3
   },
   "file_extension": ".py",
   "mimetype": "text/x-python",
   "name": "python",
   "nbconvert_exporter": "python",
   "pygments_lexer": "ipython3",
   "version": "3.10.9"
  }
 },
 "nbformat": 4,
 "nbformat_minor": 5
}
